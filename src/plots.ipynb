{
 "cells": [
  {
   "cell_type": "markdown",
   "metadata": {},
   "source": [
    "# Wrangle"
   ]
  },
  {
   "cell_type": "code",
   "execution_count": 23,
   "metadata": {},
   "outputs": [
    {
     "data": {
      "application/vnd.plotly.v1+json": {
       "config": {
        "plotlyServerURL": "https://plot.ly"
       },
       "data": [
        {
         "link": {
          "source": [
           0,
           1,
           2,
           3,
           4,
           5,
           6,
           7
          ],
          "target": [
           4,
           4,
           4,
           4,
           6,
           6,
           8,
           8
          ],
          "value": [
           2140,
           1904,
           1762,
           1857,
           2514,
           29361,
           2514,
           1708,
           1708
          ]
         },
         "node": {
          "color": "blue",
          "label": [
           "Sunshines 2023 (size 2140)",
           "Sunshines 2022 (size 1904)",
           "Sunshines 2020 (size 1762)",
           "Sunshines 2021 (size 1857)",
           "Sunshines Merged (size 2514)",
           "CS Rankings (size 29361)",
           "Sunshines x CS Rankings (size 2514)",
           "API File (size ≥1708)",
           "Final File (size 1708)"
          ],
          "line": {
           "color": "black",
           "width": 0.5
          },
          "pad": 15,
          "thickness": 20
         },
         "type": "sankey"
        }
       ],
       "layout": {
        "font": {
         "size": 10
        },
        "template": {
         "data": {
          "bar": [
           {
            "error_x": {
             "color": "#2a3f5f"
            },
            "error_y": {
             "color": "#2a3f5f"
            },
            "marker": {
             "line": {
              "color": "#E5ECF6",
              "width": 0.5
             },
             "pattern": {
              "fillmode": "overlay",
              "size": 10,
              "solidity": 0.2
             }
            },
            "type": "bar"
           }
          ],
          "barpolar": [
           {
            "marker": {
             "line": {
              "color": "#E5ECF6",
              "width": 0.5
             },
             "pattern": {
              "fillmode": "overlay",
              "size": 10,
              "solidity": 0.2
             }
            },
            "type": "barpolar"
           }
          ],
          "carpet": [
           {
            "aaxis": {
             "endlinecolor": "#2a3f5f",
             "gridcolor": "white",
             "linecolor": "white",
             "minorgridcolor": "white",
             "startlinecolor": "#2a3f5f"
            },
            "baxis": {
             "endlinecolor": "#2a3f5f",
             "gridcolor": "white",
             "linecolor": "white",
             "minorgridcolor": "white",
             "startlinecolor": "#2a3f5f"
            },
            "type": "carpet"
           }
          ],
          "choropleth": [
           {
            "colorbar": {
             "outlinewidth": 0,
             "ticks": ""
            },
            "type": "choropleth"
           }
          ],
          "contour": [
           {
            "colorbar": {
             "outlinewidth": 0,
             "ticks": ""
            },
            "colorscale": [
             [
              0,
              "#0d0887"
             ],
             [
              0.1111111111111111,
              "#46039f"
             ],
             [
              0.2222222222222222,
              "#7201a8"
             ],
             [
              0.3333333333333333,
              "#9c179e"
             ],
             [
              0.4444444444444444,
              "#bd3786"
             ],
             [
              0.5555555555555556,
              "#d8576b"
             ],
             [
              0.6666666666666666,
              "#ed7953"
             ],
             [
              0.7777777777777778,
              "#fb9f3a"
             ],
             [
              0.8888888888888888,
              "#fdca26"
             ],
             [
              1,
              "#f0f921"
             ]
            ],
            "type": "contour"
           }
          ],
          "contourcarpet": [
           {
            "colorbar": {
             "outlinewidth": 0,
             "ticks": ""
            },
            "type": "contourcarpet"
           }
          ],
          "heatmap": [
           {
            "colorbar": {
             "outlinewidth": 0,
             "ticks": ""
            },
            "colorscale": [
             [
              0,
              "#0d0887"
             ],
             [
              0.1111111111111111,
              "#46039f"
             ],
             [
              0.2222222222222222,
              "#7201a8"
             ],
             [
              0.3333333333333333,
              "#9c179e"
             ],
             [
              0.4444444444444444,
              "#bd3786"
             ],
             [
              0.5555555555555556,
              "#d8576b"
             ],
             [
              0.6666666666666666,
              "#ed7953"
             ],
             [
              0.7777777777777778,
              "#fb9f3a"
             ],
             [
              0.8888888888888888,
              "#fdca26"
             ],
             [
              1,
              "#f0f921"
             ]
            ],
            "type": "heatmap"
           }
          ],
          "heatmapgl": [
           {
            "colorbar": {
             "outlinewidth": 0,
             "ticks": ""
            },
            "colorscale": [
             [
              0,
              "#0d0887"
             ],
             [
              0.1111111111111111,
              "#46039f"
             ],
             [
              0.2222222222222222,
              "#7201a8"
             ],
             [
              0.3333333333333333,
              "#9c179e"
             ],
             [
              0.4444444444444444,
              "#bd3786"
             ],
             [
              0.5555555555555556,
              "#d8576b"
             ],
             [
              0.6666666666666666,
              "#ed7953"
             ],
             [
              0.7777777777777778,
              "#fb9f3a"
             ],
             [
              0.8888888888888888,
              "#fdca26"
             ],
             [
              1,
              "#f0f921"
             ]
            ],
            "type": "heatmapgl"
           }
          ],
          "histogram": [
           {
            "marker": {
             "pattern": {
              "fillmode": "overlay",
              "size": 10,
              "solidity": 0.2
             }
            },
            "type": "histogram"
           }
          ],
          "histogram2d": [
           {
            "colorbar": {
             "outlinewidth": 0,
             "ticks": ""
            },
            "colorscale": [
             [
              0,
              "#0d0887"
             ],
             [
              0.1111111111111111,
              "#46039f"
             ],
             [
              0.2222222222222222,
              "#7201a8"
             ],
             [
              0.3333333333333333,
              "#9c179e"
             ],
             [
              0.4444444444444444,
              "#bd3786"
             ],
             [
              0.5555555555555556,
              "#d8576b"
             ],
             [
              0.6666666666666666,
              "#ed7953"
             ],
             [
              0.7777777777777778,
              "#fb9f3a"
             ],
             [
              0.8888888888888888,
              "#fdca26"
             ],
             [
              1,
              "#f0f921"
             ]
            ],
            "type": "histogram2d"
           }
          ],
          "histogram2dcontour": [
           {
            "colorbar": {
             "outlinewidth": 0,
             "ticks": ""
            },
            "colorscale": [
             [
              0,
              "#0d0887"
             ],
             [
              0.1111111111111111,
              "#46039f"
             ],
             [
              0.2222222222222222,
              "#7201a8"
             ],
             [
              0.3333333333333333,
              "#9c179e"
             ],
             [
              0.4444444444444444,
              "#bd3786"
             ],
             [
              0.5555555555555556,
              "#d8576b"
             ],
             [
              0.6666666666666666,
              "#ed7953"
             ],
             [
              0.7777777777777778,
              "#fb9f3a"
             ],
             [
              0.8888888888888888,
              "#fdca26"
             ],
             [
              1,
              "#f0f921"
             ]
            ],
            "type": "histogram2dcontour"
           }
          ],
          "mesh3d": [
           {
            "colorbar": {
             "outlinewidth": 0,
             "ticks": ""
            },
            "type": "mesh3d"
           }
          ],
          "parcoords": [
           {
            "line": {
             "colorbar": {
              "outlinewidth": 0,
              "ticks": ""
             }
            },
            "type": "parcoords"
           }
          ],
          "pie": [
           {
            "automargin": true,
            "type": "pie"
           }
          ],
          "scatter": [
           {
            "fillpattern": {
             "fillmode": "overlay",
             "size": 10,
             "solidity": 0.2
            },
            "type": "scatter"
           }
          ],
          "scatter3d": [
           {
            "line": {
             "colorbar": {
              "outlinewidth": 0,
              "ticks": ""
             }
            },
            "marker": {
             "colorbar": {
              "outlinewidth": 0,
              "ticks": ""
             }
            },
            "type": "scatter3d"
           }
          ],
          "scattercarpet": [
           {
            "marker": {
             "colorbar": {
              "outlinewidth": 0,
              "ticks": ""
             }
            },
            "type": "scattercarpet"
           }
          ],
          "scattergeo": [
           {
            "marker": {
             "colorbar": {
              "outlinewidth": 0,
              "ticks": ""
             }
            },
            "type": "scattergeo"
           }
          ],
          "scattergl": [
           {
            "marker": {
             "colorbar": {
              "outlinewidth": 0,
              "ticks": ""
             }
            },
            "type": "scattergl"
           }
          ],
          "scattermapbox": [
           {
            "marker": {
             "colorbar": {
              "outlinewidth": 0,
              "ticks": ""
             }
            },
            "type": "scattermapbox"
           }
          ],
          "scatterpolar": [
           {
            "marker": {
             "colorbar": {
              "outlinewidth": 0,
              "ticks": ""
             }
            },
            "type": "scatterpolar"
           }
          ],
          "scatterpolargl": [
           {
            "marker": {
             "colorbar": {
              "outlinewidth": 0,
              "ticks": ""
             }
            },
            "type": "scatterpolargl"
           }
          ],
          "scatterternary": [
           {
            "marker": {
             "colorbar": {
              "outlinewidth": 0,
              "ticks": ""
             }
            },
            "type": "scatterternary"
           }
          ],
          "surface": [
           {
            "colorbar": {
             "outlinewidth": 0,
             "ticks": ""
            },
            "colorscale": [
             [
              0,
              "#0d0887"
             ],
             [
              0.1111111111111111,
              "#46039f"
             ],
             [
              0.2222222222222222,
              "#7201a8"
             ],
             [
              0.3333333333333333,
              "#9c179e"
             ],
             [
              0.4444444444444444,
              "#bd3786"
             ],
             [
              0.5555555555555556,
              "#d8576b"
             ],
             [
              0.6666666666666666,
              "#ed7953"
             ],
             [
              0.7777777777777778,
              "#fb9f3a"
             ],
             [
              0.8888888888888888,
              "#fdca26"
             ],
             [
              1,
              "#f0f921"
             ]
            ],
            "type": "surface"
           }
          ],
          "table": [
           {
            "cells": {
             "fill": {
              "color": "#EBF0F8"
             },
             "line": {
              "color": "white"
             }
            },
            "header": {
             "fill": {
              "color": "#C8D4E3"
             },
             "line": {
              "color": "white"
             }
            },
            "type": "table"
           }
          ]
         },
         "layout": {
          "annotationdefaults": {
           "arrowcolor": "#2a3f5f",
           "arrowhead": 0,
           "arrowwidth": 1
          },
          "autotypenumbers": "strict",
          "coloraxis": {
           "colorbar": {
            "outlinewidth": 0,
            "ticks": ""
           }
          },
          "colorscale": {
           "diverging": [
            [
             0,
             "#8e0152"
            ],
            [
             0.1,
             "#c51b7d"
            ],
            [
             0.2,
             "#de77ae"
            ],
            [
             0.3,
             "#f1b6da"
            ],
            [
             0.4,
             "#fde0ef"
            ],
            [
             0.5,
             "#f7f7f7"
            ],
            [
             0.6,
             "#e6f5d0"
            ],
            [
             0.7,
             "#b8e186"
            ],
            [
             0.8,
             "#7fbc41"
            ],
            [
             0.9,
             "#4d9221"
            ],
            [
             1,
             "#276419"
            ]
           ],
           "sequential": [
            [
             0,
             "#0d0887"
            ],
            [
             0.1111111111111111,
             "#46039f"
            ],
            [
             0.2222222222222222,
             "#7201a8"
            ],
            [
             0.3333333333333333,
             "#9c179e"
            ],
            [
             0.4444444444444444,
             "#bd3786"
            ],
            [
             0.5555555555555556,
             "#d8576b"
            ],
            [
             0.6666666666666666,
             "#ed7953"
            ],
            [
             0.7777777777777778,
             "#fb9f3a"
            ],
            [
             0.8888888888888888,
             "#fdca26"
            ],
            [
             1,
             "#f0f921"
            ]
           ],
           "sequentialminus": [
            [
             0,
             "#0d0887"
            ],
            [
             0.1111111111111111,
             "#46039f"
            ],
            [
             0.2222222222222222,
             "#7201a8"
            ],
            [
             0.3333333333333333,
             "#9c179e"
            ],
            [
             0.4444444444444444,
             "#bd3786"
            ],
            [
             0.5555555555555556,
             "#d8576b"
            ],
            [
             0.6666666666666666,
             "#ed7953"
            ],
            [
             0.7777777777777778,
             "#fb9f3a"
            ],
            [
             0.8888888888888888,
             "#fdca26"
            ],
            [
             1,
             "#f0f921"
            ]
           ]
          },
          "colorway": [
           "#636efa",
           "#EF553B",
           "#00cc96",
           "#ab63fa",
           "#FFA15A",
           "#19d3f3",
           "#FF6692",
           "#B6E880",
           "#FF97FF",
           "#FECB52"
          ],
          "font": {
           "color": "#2a3f5f"
          },
          "geo": {
           "bgcolor": "white",
           "lakecolor": "white",
           "landcolor": "#E5ECF6",
           "showlakes": true,
           "showland": true,
           "subunitcolor": "white"
          },
          "hoverlabel": {
           "align": "left"
          },
          "hovermode": "closest",
          "mapbox": {
           "style": "light"
          },
          "paper_bgcolor": "white",
          "plot_bgcolor": "#E5ECF6",
          "polar": {
           "angularaxis": {
            "gridcolor": "white",
            "linecolor": "white",
            "ticks": ""
           },
           "bgcolor": "#E5ECF6",
           "radialaxis": {
            "gridcolor": "white",
            "linecolor": "white",
            "ticks": ""
           }
          },
          "scene": {
           "xaxis": {
            "backgroundcolor": "#E5ECF6",
            "gridcolor": "white",
            "gridwidth": 2,
            "linecolor": "white",
            "showbackground": true,
            "ticks": "",
            "zerolinecolor": "white"
           },
           "yaxis": {
            "backgroundcolor": "#E5ECF6",
            "gridcolor": "white",
            "gridwidth": 2,
            "linecolor": "white",
            "showbackground": true,
            "ticks": "",
            "zerolinecolor": "white"
           },
           "zaxis": {
            "backgroundcolor": "#E5ECF6",
            "gridcolor": "white",
            "gridwidth": 2,
            "linecolor": "white",
            "showbackground": true,
            "ticks": "",
            "zerolinecolor": "white"
           }
          },
          "shapedefaults": {
           "line": {
            "color": "#2a3f5f"
           }
          },
          "ternary": {
           "aaxis": {
            "gridcolor": "white",
            "linecolor": "white",
            "ticks": ""
           },
           "baxis": {
            "gridcolor": "white",
            "linecolor": "white",
            "ticks": ""
           },
           "bgcolor": "#E5ECF6",
           "caxis": {
            "gridcolor": "white",
            "linecolor": "white",
            "ticks": ""
           }
          },
          "title": {
           "x": 0.05
          },
          "xaxis": {
           "automargin": true,
           "gridcolor": "white",
           "linecolor": "white",
           "ticks": "",
           "title": {
            "standoff": 15
           },
           "zerolinecolor": "white",
           "zerolinewidth": 2
          },
          "yaxis": {
           "automargin": true,
           "gridcolor": "white",
           "linecolor": "white",
           "ticks": "",
           "title": {
            "standoff": 15
           },
           "zerolinecolor": "white",
           "zerolinewidth": 2
          }
         }
        },
        "title": {
         "text": "Data Joining Process Sankey Diagram"
        }
       }
      }
     },
     "metadata": {},
     "output_type": "display_data"
    }
   ],
   "source": [
    "# 1. layer: files of size 2140, 1904, 1762, 1857 get merged into a file of size 2514\n",
    "# 2. layer: the file from the previous step which has the size 2514 gets inner joined with an external file of size 29361 and it results in a file of size 2514\n",
    "# 3. layer: the file from the previous layer which has the size 2514 gets inner joined with an API and finally has size 1708\n",
    "\n",
    "import plotly.graph_objects as go\n",
    "from pathlib import Path\n",
    "\n",
    "outputpath = Path.cwd().parent / \"data\" / \"assets\"\n",
    "\n",
    "labels = [\"Sunshines 2023 (size 2140)\", \"Sunshines 2022 (size 1904)\", \"Sunshines 2020 (size 1762)\", \"Sunshines 2021 (size 1857)\", \"Sunshines Merged (size 2514)\", \"CS Rankings (size 29361)\", \"Sunshines x CS Rankings (size 2514)\", \"API File (size ≥1708)\", \"Final File (size 1708)\"]\n",
    "\n",
    "source = [0, 1, 2, 3, 4, 5, 6, 7]\n",
    "target = [4, 4, 4, 4, 6, 6, 8, 8]\n",
    "value = [2140, 1904, 1762, 1857, 2514, 29361, 2514, 1708, 1708]\n",
    "\n",
    "fig = go.Figure(data=[go.Sankey(node=dict(pad=15, thickness=20, line=dict(color=\"black\", width=0.5), label=labels, color=\"blue\"), link=dict(source=source, target=target, value=value))])\n",
    "\n",
    "fig.update_layout(title_text=\"Data Joining Process Sankey Diagram\", font_size=10)\n",
    "fig.show()\n",
    "\n",
    "# store\n",
    "filepath = outputpath / \"wrangle-sankey\"\n",
    "fig.update_layout(\n",
    "    autosize=False,\n",
    "    width=1000,\n",
    "    height=400,\n",
    ")\n",
    "\n",
    "# high res\n",
    "import plotly.io as pio\n",
    "\n",
    "pio.kaleido.scope.default_scale = 2\n",
    "pio.kaleido.scope.default_width = 1200\n",
    "pio.kaleido.scope.default_height = 800\n",
    "fig.write_image(str(filepath) + \".png\")"
   ]
  },
  {
   "cell_type": "markdown",
   "metadata": {},
   "source": [
    "# Profile"
   ]
  },
  {
   "cell_type": "code",
   "execution_count": 53,
   "metadata": {},
   "outputs": [
    {
     "name": "stdout",
     "output_type": "stream",
     "text": [
      "name                    object\n",
      "sex                     object\n",
      "paper_count              int64\n",
      "citation_count           int64\n",
      "h_index                  int64\n",
      "role_2020               object\n",
      "role_cluster_2020      float64\n",
      "salary_2020            float64\n",
      "benefits_2020          float64\n",
      "role_2021               object\n",
      "role_cluster_2021      float64\n",
      "salary_2021            float64\n",
      "benefits_2021          float64\n",
      "role_2022               object\n",
      "role_cluster_2022      float64\n",
      "salary_2022            float64\n",
      "benefits_2022          float64\n",
      "role_2023               object\n",
      "role_cluster_2023      float64\n",
      "salary_2023            float64\n",
      "benefits_2023          float64\n",
      "latest_totalcomp       float64\n",
      "latest_role             object\n",
      "latest_role_cluster    float64\n",
      "perf_combined            int64\n",
      "totalcomp_2020         float64\n",
      "totalcomp_2021         float64\n",
      "totalcomp_2022         float64\n",
      "totalcomp_2023         float64\n",
      "dtype: object\n"
     ]
    },
    {
     "data": {
      "text/html": [
       "<div>\n",
       "<style scoped>\n",
       "    .dataframe tbody tr th:only-of-type {\n",
       "        vertical-align: middle;\n",
       "    }\n",
       "\n",
       "    .dataframe tbody tr th {\n",
       "        vertical-align: top;\n",
       "    }\n",
       "\n",
       "    .dataframe thead th {\n",
       "        text-align: right;\n",
       "    }\n",
       "</style>\n",
       "<table border=\"1\" class=\"dataframe\">\n",
       "  <thead>\n",
       "    <tr style=\"text-align: right;\">\n",
       "      <th></th>\n",
       "      <th>name</th>\n",
       "      <th>sex</th>\n",
       "      <th>paper_count</th>\n",
       "      <th>citation_count</th>\n",
       "      <th>h_index</th>\n",
       "      <th>role_2020</th>\n",
       "      <th>role_cluster_2020</th>\n",
       "      <th>salary_2020</th>\n",
       "      <th>benefits_2020</th>\n",
       "      <th>role_2021</th>\n",
       "      <th>...</th>\n",
       "      <th>salary_2023</th>\n",
       "      <th>benefits_2023</th>\n",
       "      <th>latest_totalcomp</th>\n",
       "      <th>latest_role</th>\n",
       "      <th>latest_role_cluster</th>\n",
       "      <th>perf_combined</th>\n",
       "      <th>totalcomp_2020</th>\n",
       "      <th>totalcomp_2021</th>\n",
       "      <th>totalcomp_2022</th>\n",
       "      <th>totalcomp_2023</th>\n",
       "    </tr>\n",
       "  </thead>\n",
       "  <tbody>\n",
       "    <tr>\n",
       "      <th>0</th>\n",
       "      <td>Yousra Aafer</td>\n",
       "      <td>F</td>\n",
       "      <td>34</td>\n",
       "      <td>2998</td>\n",
       "      <td>18</td>\n",
       "      <td>Assistant Professor</td>\n",
       "      <td>3.0</td>\n",
       "      <td>148935.04</td>\n",
       "      <td>158.96</td>\n",
       "      <td>Assistant Professor</td>\n",
       "      <td>...</td>\n",
       "      <td>160442.56</td>\n",
       "      <td>276.08</td>\n",
       "      <td>160718.64</td>\n",
       "      <td>Assistant Professor</td>\n",
       "      <td>3.0</td>\n",
       "      <td>3050</td>\n",
       "      <td>149094.00</td>\n",
       "      <td>154313.40</td>\n",
       "      <td>159488.20</td>\n",
       "      <td>160718.64</td>\n",
       "    </tr>\n",
       "    <tr>\n",
       "      <th>1</th>\n",
       "      <td>Eihab Abdel-rahman</td>\n",
       "      <td>M</td>\n",
       "      <td>197</td>\n",
       "      <td>5193</td>\n",
       "      <td>31</td>\n",
       "      <td>Professor</td>\n",
       "      <td>3.0</td>\n",
       "      <td>195256.60</td>\n",
       "      <td>215.48</td>\n",
       "      <td>Professor</td>\n",
       "      <td>...</td>\n",
       "      <td>221699.84</td>\n",
       "      <td>370.76</td>\n",
       "      <td>222070.60</td>\n",
       "      <td>Professor</td>\n",
       "      <td>3.0</td>\n",
       "      <td>5421</td>\n",
       "      <td>195472.08</td>\n",
       "      <td>206567.72</td>\n",
       "      <td>210558.60</td>\n",
       "      <td>222070.60</td>\n",
       "    </tr>\n",
       "    <tr>\n",
       "      <th>2</th>\n",
       "      <td>Ishan S. Abeywardena</td>\n",
       "      <td>M</td>\n",
       "      <td>37</td>\n",
       "      <td>144</td>\n",
       "      <td>6</td>\n",
       "      <td>Associate Director Systems</td>\n",
       "      <td>19.0</td>\n",
       "      <td>125246.72</td>\n",
       "      <td>334.00</td>\n",
       "      <td>Associate Director Systems</td>\n",
       "      <td>...</td>\n",
       "      <td>142080.64</td>\n",
       "      <td>550.72</td>\n",
       "      <td>142631.36</td>\n",
       "      <td>Associate Director Systems</td>\n",
       "      <td>19.0</td>\n",
       "      <td>187</td>\n",
       "      <td>125580.72</td>\n",
       "      <td>130435.29</td>\n",
       "      <td>134382.97</td>\n",
       "      <td>142631.36</td>\n",
       "    </tr>\n",
       "    <tr>\n",
       "      <th>3</th>\n",
       "      <td>Hossein Abouee Mehrizi</td>\n",
       "      <td>M</td>\n",
       "      <td>31</td>\n",
       "      <td>450</td>\n",
       "      <td>13</td>\n",
       "      <td>Associate Professor</td>\n",
       "      <td>3.0</td>\n",
       "      <td>175698.40</td>\n",
       "      <td>293.66</td>\n",
       "      <td>Associate Professor</td>\n",
       "      <td>...</td>\n",
       "      <td>209521.60</td>\n",
       "      <td>755.32</td>\n",
       "      <td>210276.92</td>\n",
       "      <td>Professor</td>\n",
       "      <td>3.0</td>\n",
       "      <td>494</td>\n",
       "      <td>175992.06</td>\n",
       "      <td>208375.44</td>\n",
       "      <td>207523.76</td>\n",
       "      <td>210276.92</td>\n",
       "    </tr>\n",
       "    <tr>\n",
       "      <th>4</th>\n",
       "      <td>John Abraham</td>\n",
       "      <td>M</td>\n",
       "      <td>383</td>\n",
       "      <td>9432</td>\n",
       "      <td>47</td>\n",
       "      <td>NaN</td>\n",
       "      <td>NaN</td>\n",
       "      <td>NaN</td>\n",
       "      <td>NaN</td>\n",
       "      <td>Continuing Lecturer and Manager of Internation...</td>\n",
       "      <td>...</td>\n",
       "      <td>134059.52</td>\n",
       "      <td>875.24</td>\n",
       "      <td>134934.76</td>\n",
       "      <td>Academic Dean Continuing Lecturer and Manager ...</td>\n",
       "      <td>10.0</td>\n",
       "      <td>9862</td>\n",
       "      <td>NaN</td>\n",
       "      <td>105171.84</td>\n",
       "      <td>115881.00</td>\n",
       "      <td>134934.76</td>\n",
       "    </tr>\n",
       "  </tbody>\n",
       "</table>\n",
       "<p>5 rows × 29 columns</p>\n",
       "</div>"
      ],
      "text/plain": [
       "                     name sex  paper_count  citation_count  h_index  \\\n",
       "0            Yousra Aafer   F           34            2998       18   \n",
       "1      Eihab Abdel-rahman   M          197            5193       31   \n",
       "2    Ishan S. Abeywardena   M           37             144        6   \n",
       "3  Hossein Abouee Mehrizi   M           31             450       13   \n",
       "4            John Abraham   M          383            9432       47   \n",
       "\n",
       "                    role_2020  role_cluster_2020  salary_2020  benefits_2020  \\\n",
       "0         Assistant Professor                3.0    148935.04         158.96   \n",
       "1                   Professor                3.0    195256.60         215.48   \n",
       "2  Associate Director Systems               19.0    125246.72         334.00   \n",
       "3         Associate Professor                3.0    175698.40         293.66   \n",
       "4                         NaN                NaN          NaN            NaN   \n",
       "\n",
       "                                           role_2021  ...  salary_2023  \\\n",
       "0                                Assistant Professor  ...    160442.56   \n",
       "1                                          Professor  ...    221699.84   \n",
       "2                         Associate Director Systems  ...    142080.64   \n",
       "3                                Associate Professor  ...    209521.60   \n",
       "4  Continuing Lecturer and Manager of Internation...  ...    134059.52   \n",
       "\n",
       "   benefits_2023  latest_totalcomp  \\\n",
       "0         276.08         160718.64   \n",
       "1         370.76         222070.60   \n",
       "2         550.72         142631.36   \n",
       "3         755.32         210276.92   \n",
       "4         875.24         134934.76   \n",
       "\n",
       "                                         latest_role  latest_role_cluster  \\\n",
       "0                                Assistant Professor                  3.0   \n",
       "1                                          Professor                  3.0   \n",
       "2                         Associate Director Systems                 19.0   \n",
       "3                                          Professor                  3.0   \n",
       "4  Academic Dean Continuing Lecturer and Manager ...                 10.0   \n",
       "\n",
       "   perf_combined  totalcomp_2020 totalcomp_2021  totalcomp_2022  \\\n",
       "0           3050       149094.00      154313.40       159488.20   \n",
       "1           5421       195472.08      206567.72       210558.60   \n",
       "2            187       125580.72      130435.29       134382.97   \n",
       "3            494       175992.06      208375.44       207523.76   \n",
       "4           9862             NaN      105171.84       115881.00   \n",
       "\n",
       "   totalcomp_2023  \n",
       "0       160718.64  \n",
       "1       222070.60  \n",
       "2       142631.36  \n",
       "3       210276.92  \n",
       "4       134934.76  \n",
       "\n",
       "[5 rows x 29 columns]"
      ]
     },
     "execution_count": 53,
     "metadata": {},
     "output_type": "execute_result"
    }
   ],
   "source": [
    "from pathlib import Path\n",
    "import pandas as pd\n",
    "import seaborn as sns\n",
    "import matplotlib.pyplot as plt\n",
    "import numpy as np\n",
    "from matplotlib.colors import LogNorm\n",
    "\n",
    "datapath = Path.cwd().parent / \"data\" / \"sunshines-v4.csv\"\n",
    "df = pd.read_csv(datapath)\n",
    "\n",
    "#\n",
    "# infer features\n",
    "#\n",
    "\n",
    "\n",
    "def get_latest_totalcomp(row):\n",
    "    years = [\"2023\", \"2022\", \"2021\", \"2020\"]\n",
    "    for year in years:\n",
    "        salary_col = f\"salary_{year}\"\n",
    "        benefits_col = f\"benefits_{year}\"\n",
    "        if salary_col in row.index and benefits_col in row.index:  # fall back to previous year if current year is missing\n",
    "            if pd.notna(row[salary_col]) and pd.notna(row[benefits_col]):  # check if both present\n",
    "                return row[salary_col] + row[benefits_col]  # get total comp\n",
    "    print(f\"warning: {row['name']}\")\n",
    "    return pd.NA\n",
    "\n",
    "\n",
    "def get_latest_role(row):\n",
    "    years = [\"2023\", \"2022\", \"2021\", \"2020\"]\n",
    "    for year in years:\n",
    "        role_col = f\"role_{year}\"\n",
    "        if role_col in row.index:  # fall back to previous year if current year is missing\n",
    "            if pd.notna(row[role_col]):  # check if present\n",
    "                return row[role_col]\n",
    "    print(f\"warning: {row['name']}\")\n",
    "    return pd.NA\n",
    "\n",
    "\n",
    "def get_latest_role_cluster(row):\n",
    "    years = [\"2023\", \"2022\", \"2021\", \"2020\"]\n",
    "    for year in years:\n",
    "        role_col = f\"role_cluster_{year}\"\n",
    "        if role_col in row.index:  # fall back to previous year if current year is missing\n",
    "            if pd.notna(row[role_col]):  # check if present\n",
    "                return row[role_col]\n",
    "    print(f\"warning: {row['name']}\")\n",
    "    return pd.NA\n",
    "\n",
    "\n",
    "df[\"latest_totalcomp\"] = df.apply(get_latest_totalcomp, axis=1)\n",
    "df[\"latest_role\"] = df.apply(get_latest_role, axis=1)\n",
    "df[\"latest_role_cluster\"] = df.apply(get_latest_role_cluster, axis=1)\n",
    "\n",
    "df[\"perf_combined\"] = df[\"paper_count\"] + df[\"citation_count\"] + df[\"h_index\"]\n",
    "for year in range(2020, 2024):\n",
    "    df[f\"totalcomp_{year}\"] = df[f\"salary_{year}\"] + df[f\"benefits_{year}\"]\n",
    "\n",
    "print(df.dtypes)\n",
    "df.head()\n",
    "\n",
    "\n",
    "#\n",
    "# correlation heatmap\n",
    "#\n",
    "\n",
    "\n",
    "# IDEA: demographics\n",
    "# male female ratio\n",
    "# male female ratio per role\n",
    "\n",
    "# IDEA: career progression (temporal)\n",
    "# - change in roles over time, ranking roles\n",
    "\n",
    "# IDEA: compensation trends (temporal)\n",
    "# - visualize num employees, salaries, benefits, num papers, citations, h_index, perf_combined - over time\n",
    "\n",
    "# IDEA: performance (correlation)\n",
    "# what influences latest_totalcomp the most?\n",
    "# correlate using a heatmap:\n",
    "# - sex\n",
    "# - paper_count\n",
    "# - citation_count\n",
    "# - h_index\n",
    "# - latest_role\n",
    "# - perf_combined (combined)"
   ]
  },
  {
   "cell_type": "code",
   "execution_count": null,
   "metadata": {},
   "outputs": [],
   "source": []
  }
 ],
 "metadata": {
  "kernelspec": {
   "display_name": ".venv",
   "language": "python",
   "name": "python3"
  },
  "language_info": {
   "codemirror_mode": {
    "name": "ipython",
    "version": 3
   },
   "file_extension": ".py",
   "mimetype": "text/x-python",
   "name": "python",
   "nbconvert_exporter": "python",
   "pygments_lexer": "ipython3",
   "version": "3.11.9"
  }
 },
 "nbformat": 4,
 "nbformat_minor": 2
}
