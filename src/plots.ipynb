{
 "cells": [
  {
   "cell_type": "markdown",
   "metadata": {},
   "source": [
    "# Wrangle"
   ]
  },
  {
   "cell_type": "code",
   "execution_count": 23,
   "metadata": {},
   "outputs": [
    {
     "data": {
      "application/vnd.plotly.v1+json": {
       "config": {
        "plotlyServerURL": "https://plot.ly"
       },
       "data": [
        {
         "link": {
          "source": [
           0,
           1,
           2,
           3,
           4,
           5,
           6,
           7
          ],
          "target": [
           4,
           4,
           4,
           4,
           6,
           6,
           8,
           8
          ],
          "value": [
           2140,
           1904,
           1762,
           1857,
           2514,
           29361,
           2514,
           1708,
           1708
          ]
         },
         "node": {
          "color": "blue",
          "label": [
           "Sunshines 2023 (size 2140)",
           "Sunshines 2022 (size 1904)",
           "Sunshines 2020 (size 1762)",
           "Sunshines 2021 (size 1857)",
           "Sunshines Merged (size 2514)",
           "CS Rankings (size 29361)",
           "Sunshines x CS Rankings (size 2514)",
           "API File (size ≥1708)",
           "Final File (size 1708)"
          ],
          "line": {
           "color": "black",
           "width": 0.5
          },
          "pad": 15,
          "thickness": 20
         },
         "type": "sankey"
        }
       ],
       "layout": {
        "font": {
         "size": 10
        },
        "template": {
         "data": {
          "bar": [
           {
            "error_x": {
             "color": "#2a3f5f"
            },
            "error_y": {
             "color": "#2a3f5f"
            },
            "marker": {
             "line": {
              "color": "#E5ECF6",
              "width": 0.5
             },
             "pattern": {
              "fillmode": "overlay",
              "size": 10,
              "solidity": 0.2
             }
            },
            "type": "bar"
           }
          ],
          "barpolar": [
           {
            "marker": {
             "line": {
              "color": "#E5ECF6",
              "width": 0.5
             },
             "pattern": {
              "fillmode": "overlay",
              "size": 10,
              "solidity": 0.2
             }
            },
            "type": "barpolar"
           }
          ],
          "carpet": [
           {
            "aaxis": {
             "endlinecolor": "#2a3f5f",
             "gridcolor": "white",
             "linecolor": "white",
             "minorgridcolor": "white",
             "startlinecolor": "#2a3f5f"
            },
            "baxis": {
             "endlinecolor": "#2a3f5f",
             "gridcolor": "white",
             "linecolor": "white",
             "minorgridcolor": "white",
             "startlinecolor": "#2a3f5f"
            },
            "type": "carpet"
           }
          ],
          "choropleth": [
           {
            "colorbar": {
             "outlinewidth": 0,
             "ticks": ""
            },
            "type": "choropleth"
           }
          ],
          "contour": [
           {
            "colorbar": {
             "outlinewidth": 0,
             "ticks": ""
            },
            "colorscale": [
             [
              0,
              "#0d0887"
             ],
             [
              0.1111111111111111,
              "#46039f"
             ],
             [
              0.2222222222222222,
              "#7201a8"
             ],
             [
              0.3333333333333333,
              "#9c179e"
             ],
             [
              0.4444444444444444,
              "#bd3786"
             ],
             [
              0.5555555555555556,
              "#d8576b"
             ],
             [
              0.6666666666666666,
              "#ed7953"
             ],
             [
              0.7777777777777778,
              "#fb9f3a"
             ],
             [
              0.8888888888888888,
              "#fdca26"
             ],
             [
              1,
              "#f0f921"
             ]
            ],
            "type": "contour"
           }
          ],
          "contourcarpet": [
           {
            "colorbar": {
             "outlinewidth": 0,
             "ticks": ""
            },
            "type": "contourcarpet"
           }
          ],
          "heatmap": [
           {
            "colorbar": {
             "outlinewidth": 0,
             "ticks": ""
            },
            "colorscale": [
             [
              0,
              "#0d0887"
             ],
             [
              0.1111111111111111,
              "#46039f"
             ],
             [
              0.2222222222222222,
              "#7201a8"
             ],
             [
              0.3333333333333333,
              "#9c179e"
             ],
             [
              0.4444444444444444,
              "#bd3786"
             ],
             [
              0.5555555555555556,
              "#d8576b"
             ],
             [
              0.6666666666666666,
              "#ed7953"
             ],
             [
              0.7777777777777778,
              "#fb9f3a"
             ],
             [
              0.8888888888888888,
              "#fdca26"
             ],
             [
              1,
              "#f0f921"
             ]
            ],
            "type": "heatmap"
           }
          ],
          "heatmapgl": [
           {
            "colorbar": {
             "outlinewidth": 0,
             "ticks": ""
            },
            "colorscale": [
             [
              0,
              "#0d0887"
             ],
             [
              0.1111111111111111,
              "#46039f"
             ],
             [
              0.2222222222222222,
              "#7201a8"
             ],
             [
              0.3333333333333333,
              "#9c179e"
             ],
             [
              0.4444444444444444,
              "#bd3786"
             ],
             [
              0.5555555555555556,
              "#d8576b"
             ],
             [
              0.6666666666666666,
              "#ed7953"
             ],
             [
              0.7777777777777778,
              "#fb9f3a"
             ],
             [
              0.8888888888888888,
              "#fdca26"
             ],
             [
              1,
              "#f0f921"
             ]
            ],
            "type": "heatmapgl"
           }
          ],
          "histogram": [
           {
            "marker": {
             "pattern": {
              "fillmode": "overlay",
              "size": 10,
              "solidity": 0.2
             }
            },
            "type": "histogram"
           }
          ],
          "histogram2d": [
           {
            "colorbar": {
             "outlinewidth": 0,
             "ticks": ""
            },
            "colorscale": [
             [
              0,
              "#0d0887"
             ],
             [
              0.1111111111111111,
              "#46039f"
             ],
             [
              0.2222222222222222,
              "#7201a8"
             ],
             [
              0.3333333333333333,
              "#9c179e"
             ],
             [
              0.4444444444444444,
              "#bd3786"
             ],
             [
              0.5555555555555556,
              "#d8576b"
             ],
             [
              0.6666666666666666,
              "#ed7953"
             ],
             [
              0.7777777777777778,
              "#fb9f3a"
             ],
             [
              0.8888888888888888,
              "#fdca26"
             ],
             [
              1,
              "#f0f921"
             ]
            ],
            "type": "histogram2d"
           }
          ],
          "histogram2dcontour": [
           {
            "colorbar": {
             "outlinewidth": 0,
             "ticks": ""
            },
            "colorscale": [
             [
              0,
              "#0d0887"
             ],
             [
              0.1111111111111111,
              "#46039f"
             ],
             [
              0.2222222222222222,
              "#7201a8"
             ],
             [
              0.3333333333333333,
              "#9c179e"
             ],
             [
              0.4444444444444444,
              "#bd3786"
             ],
             [
              0.5555555555555556,
              "#d8576b"
             ],
             [
              0.6666666666666666,
              "#ed7953"
             ],
             [
              0.7777777777777778,
              "#fb9f3a"
             ],
             [
              0.8888888888888888,
              "#fdca26"
             ],
             [
              1,
              "#f0f921"
             ]
            ],
            "type": "histogram2dcontour"
           }
          ],
          "mesh3d": [
           {
            "colorbar": {
             "outlinewidth": 0,
             "ticks": ""
            },
            "type": "mesh3d"
           }
          ],
          "parcoords": [
           {
            "line": {
             "colorbar": {
              "outlinewidth": 0,
              "ticks": ""
             }
            },
            "type": "parcoords"
           }
          ],
          "pie": [
           {
            "automargin": true,
            "type": "pie"
           }
          ],
          "scatter": [
           {
            "fillpattern": {
             "fillmode": "overlay",
             "size": 10,
             "solidity": 0.2
            },
            "type": "scatter"
           }
          ],
          "scatter3d": [
           {
            "line": {
             "colorbar": {
              "outlinewidth": 0,
              "ticks": ""
             }
            },
            "marker": {
             "colorbar": {
              "outlinewidth": 0,
              "ticks": ""
             }
            },
            "type": "scatter3d"
           }
          ],
          "scattercarpet": [
           {
            "marker": {
             "colorbar": {
              "outlinewidth": 0,
              "ticks": ""
             }
            },
            "type": "scattercarpet"
           }
          ],
          "scattergeo": [
           {
            "marker": {
             "colorbar": {
              "outlinewidth": 0,
              "ticks": ""
             }
            },
            "type": "scattergeo"
           }
          ],
          "scattergl": [
           {
            "marker": {
             "colorbar": {
              "outlinewidth": 0,
              "ticks": ""
             }
            },
            "type": "scattergl"
           }
          ],
          "scattermapbox": [
           {
            "marker": {
             "colorbar": {
              "outlinewidth": 0,
              "ticks": ""
             }
            },
            "type": "scattermapbox"
           }
          ],
          "scatterpolar": [
           {
            "marker": {
             "colorbar": {
              "outlinewidth": 0,
              "ticks": ""
             }
            },
            "type": "scatterpolar"
           }
          ],
          "scatterpolargl": [
           {
            "marker": {
             "colorbar": {
              "outlinewidth": 0,
              "ticks": ""
             }
            },
            "type": "scatterpolargl"
           }
          ],
          "scatterternary": [
           {
            "marker": {
             "colorbar": {
              "outlinewidth": 0,
              "ticks": ""
             }
            },
            "type": "scatterternary"
           }
          ],
          "surface": [
           {
            "colorbar": {
             "outlinewidth": 0,
             "ticks": ""
            },
            "colorscale": [
             [
              0,
              "#0d0887"
             ],
             [
              0.1111111111111111,
              "#46039f"
             ],
             [
              0.2222222222222222,
              "#7201a8"
             ],
             [
              0.3333333333333333,
              "#9c179e"
             ],
             [
              0.4444444444444444,
              "#bd3786"
             ],
             [
              0.5555555555555556,
              "#d8576b"
             ],
             [
              0.6666666666666666,
              "#ed7953"
             ],
             [
              0.7777777777777778,
              "#fb9f3a"
             ],
             [
              0.8888888888888888,
              "#fdca26"
             ],
             [
              1,
              "#f0f921"
             ]
            ],
            "type": "surface"
           }
          ],
          "table": [
           {
            "cells": {
             "fill": {
              "color": "#EBF0F8"
             },
             "line": {
              "color": "white"
             }
            },
            "header": {
             "fill": {
              "color": "#C8D4E3"
             },
             "line": {
              "color": "white"
             }
            },
            "type": "table"
           }
          ]
         },
         "layout": {
          "annotationdefaults": {
           "arrowcolor": "#2a3f5f",
           "arrowhead": 0,
           "arrowwidth": 1
          },
          "autotypenumbers": "strict",
          "coloraxis": {
           "colorbar": {
            "outlinewidth": 0,
            "ticks": ""
           }
          },
          "colorscale": {
           "diverging": [
            [
             0,
             "#8e0152"
            ],
            [
             0.1,
             "#c51b7d"
            ],
            [
             0.2,
             "#de77ae"
            ],
            [
             0.3,
             "#f1b6da"
            ],
            [
             0.4,
             "#fde0ef"
            ],
            [
             0.5,
             "#f7f7f7"
            ],
            [
             0.6,
             "#e6f5d0"
            ],
            [
             0.7,
             "#b8e186"
            ],
            [
             0.8,
             "#7fbc41"
            ],
            [
             0.9,
             "#4d9221"
            ],
            [
             1,
             "#276419"
            ]
           ],
           "sequential": [
            [
             0,
             "#0d0887"
            ],
            [
             0.1111111111111111,
             "#46039f"
            ],
            [
             0.2222222222222222,
             "#7201a8"
            ],
            [
             0.3333333333333333,
             "#9c179e"
            ],
            [
             0.4444444444444444,
             "#bd3786"
            ],
            [
             0.5555555555555556,
             "#d8576b"
            ],
            [
             0.6666666666666666,
             "#ed7953"
            ],
            [
             0.7777777777777778,
             "#fb9f3a"
            ],
            [
             0.8888888888888888,
             "#fdca26"
            ],
            [
             1,
             "#f0f921"
            ]
           ],
           "sequentialminus": [
            [
             0,
             "#0d0887"
            ],
            [
             0.1111111111111111,
             "#46039f"
            ],
            [
             0.2222222222222222,
             "#7201a8"
            ],
            [
             0.3333333333333333,
             "#9c179e"
            ],
            [
             0.4444444444444444,
             "#bd3786"
            ],
            [
             0.5555555555555556,
             "#d8576b"
            ],
            [
             0.6666666666666666,
             "#ed7953"
            ],
            [
             0.7777777777777778,
             "#fb9f3a"
            ],
            [
             0.8888888888888888,
             "#fdca26"
            ],
            [
             1,
             "#f0f921"
            ]
           ]
          },
          "colorway": [
           "#636efa",
           "#EF553B",
           "#00cc96",
           "#ab63fa",
           "#FFA15A",
           "#19d3f3",
           "#FF6692",
           "#B6E880",
           "#FF97FF",
           "#FECB52"
          ],
          "font": {
           "color": "#2a3f5f"
          },
          "geo": {
           "bgcolor": "white",
           "lakecolor": "white",
           "landcolor": "#E5ECF6",
           "showlakes": true,
           "showland": true,
           "subunitcolor": "white"
          },
          "hoverlabel": {
           "align": "left"
          },
          "hovermode": "closest",
          "mapbox": {
           "style": "light"
          },
          "paper_bgcolor": "white",
          "plot_bgcolor": "#E5ECF6",
          "polar": {
           "angularaxis": {
            "gridcolor": "white",
            "linecolor": "white",
            "ticks": ""
           },
           "bgcolor": "#E5ECF6",
           "radialaxis": {
            "gridcolor": "white",
            "linecolor": "white",
            "ticks": ""
           }
          },
          "scene": {
           "xaxis": {
            "backgroundcolor": "#E5ECF6",
            "gridcolor": "white",
            "gridwidth": 2,
            "linecolor": "white",
            "showbackground": true,
            "ticks": "",
            "zerolinecolor": "white"
           },
           "yaxis": {
            "backgroundcolor": "#E5ECF6",
            "gridcolor": "white",
            "gridwidth": 2,
            "linecolor": "white",
            "showbackground": true,
            "ticks": "",
            "zerolinecolor": "white"
           },
           "zaxis": {
            "backgroundcolor": "#E5ECF6",
            "gridcolor": "white",
            "gridwidth": 2,
            "linecolor": "white",
            "showbackground": true,
            "ticks": "",
            "zerolinecolor": "white"
           }
          },
          "shapedefaults": {
           "line": {
            "color": "#2a3f5f"
           }
          },
          "ternary": {
           "aaxis": {
            "gridcolor": "white",
            "linecolor": "white",
            "ticks": ""
           },
           "baxis": {
            "gridcolor": "white",
            "linecolor": "white",
            "ticks": ""
           },
           "bgcolor": "#E5ECF6",
           "caxis": {
            "gridcolor": "white",
            "linecolor": "white",
            "ticks": ""
           }
          },
          "title": {
           "x": 0.05
          },
          "xaxis": {
           "automargin": true,
           "gridcolor": "white",
           "linecolor": "white",
           "ticks": "",
           "title": {
            "standoff": 15
           },
           "zerolinecolor": "white",
           "zerolinewidth": 2
          },
          "yaxis": {
           "automargin": true,
           "gridcolor": "white",
           "linecolor": "white",
           "ticks": "",
           "title": {
            "standoff": 15
           },
           "zerolinecolor": "white",
           "zerolinewidth": 2
          }
         }
        },
        "title": {
         "text": "Data Joining Process Sankey Diagram"
        }
       }
      }
     },
     "metadata": {},
     "output_type": "display_data"
    }
   ],
   "source": [
    "# 1. layer: files of size 2140, 1904, 1762, 1857 get merged into a file of size 2514\n",
    "# 2. layer: the file from the previous step which has the size 2514 gets inner joined with an external file of size 29361 and it results in a file of size 2514\n",
    "# 3. layer: the file from the previous layer which has the size 2514 gets inner joined with an API and finally has size 1708\n",
    "\n",
    "import plotly.graph_objects as go\n",
    "from pathlib import Path\n",
    "\n",
    "outputpath = Path.cwd().parent / \"data\" / \"assets\"\n",
    "\n",
    "labels = [\"Sunshines 2023 (size 2140)\", \"Sunshines 2022 (size 1904)\", \"Sunshines 2020 (size 1762)\", \"Sunshines 2021 (size 1857)\", \"Sunshines Merged (size 2514)\", \"CS Rankings (size 29361)\", \"Sunshines x CS Rankings (size 2514)\", \"API File (size ≥1708)\", \"Final File (size 1708)\"]\n",
    "\n",
    "source = [0, 1, 2, 3, 4, 5, 6, 7]\n",
    "target = [4, 4, 4, 4, 6, 6, 8, 8]\n",
    "value = [2140, 1904, 1762, 1857, 2514, 29361, 2514, 1708, 1708]\n",
    "\n",
    "fig = go.Figure(data=[go.Sankey(node=dict(pad=15, thickness=20, line=dict(color=\"black\", width=0.5), label=labels, color=\"blue\"), link=dict(source=source, target=target, value=value))])\n",
    "\n",
    "fig.update_layout(title_text=\"Data Joining Process Sankey Diagram\", font_size=10)\n",
    "fig.show()\n",
    "\n",
    "# store\n",
    "filepath = outputpath / \"wrangle-sankey\"\n",
    "fig.update_layout(\n",
    "    autosize=False,\n",
    "    width=1000,\n",
    "    height=400,\n",
    ")\n",
    "\n",
    "# high res\n",
    "import plotly.io as pio\n",
    "\n",
    "pio.kaleido.scope.default_scale = 2\n",
    "pio.kaleido.scope.default_width = 1200\n",
    "pio.kaleido.scope.default_height = 800\n",
    "fig.write_image(str(filepath) + \".png\")"
   ]
  },
  {
   "cell_type": "markdown",
   "metadata": {},
   "source": [
    "# Profile"
   ]
  },
  {
   "cell_type": "code",
   "execution_count": 46,
   "metadata": {},
   "outputs": [
    {
     "name": "stdout",
     "output_type": "stream",
     "text": [
      "number of unique roles: 536\n",
      "Associate Director Centre for Work-Integrated Learning\n",
      "Supervisor Building Services\n",
      "Director Finance & Administration St. Paul's University College\n",
      "Librarian Bibliometrics and Reseach Impact\n",
      "Associate Vice-President Chief Information Officer\n",
      "Director Home Flood Protection Intact Centre on Climate Adaptation\n",
      "Vice-President Administration & Finance\n",
      "Senior Manager University of Waterloo Mass Spectrometry Facility\n",
      "Manager Mobility and Learning\n",
      "Business Advisor Hardware\n",
      "Associate Director Counselling Services\n",
      "Associate Director Graduate & Postdoctoral Strategic Initiatives\n",
      "Dean Conrad Grebel University College\n",
      "Senior Educational Developer Faculty Programs & Blended Learning\n",
      "Manager Information Systems\n",
      "Associate Professor Chair Social Development Studies Renison University College\n",
      "Librarian\n",
      "Manager Counselling Services\n",
      "Executive Director Research Strategic Initiatives\n",
      "Senior Manager Student Services\n",
      "Director Writing Centre\n",
      "Administrative Officer School of Architecture\n",
      "Director Communications and Stakeholder Relations\n",
      "Clinical Records Evaluator\n",
      "Director Strategic Planning & Evaluation\n",
      "Laboratory Instructor Hardware Specialist\n",
      "Systems Integration Specialist\n",
      "Associate Vice-President Academic Operations\n",
      "Laboratory Instructor\n",
      "Faculty Relations Manager\n",
      "Associate Professor United College\n",
      "Instructional Support Coordinator\n",
      "Associate University Librarian Collections Technology and Scholarly Communication\n",
      "Librarian Geospatial Data Services\n",
      "Regional Manager Toronto\n",
      "Associate Director Graduate and Postdoctoral Strategic Initiatives\n",
      "Associate Vice-President Innovation\n",
      "Laboratory Manager Environmental Isotope Lab\n",
      "Research Assistant Professor\n",
      "Executive Officer Faculty of Arts\n",
      "Manager Electrical Engineering\n",
      "Vice-President Administration and Finance\n",
      "Liaison Center for Teaching Excellence Environmental Studies & Arts\n",
      "Occupational Health Nurse\n",
      "Continuing Lecturer Chair Culture and Language Studies Renison University College\n",
      "Corporate Research Partnerships Manager\n",
      "Manager Information Technology\n",
      "Director Client Services\n",
      "President Emeritus\n",
      "President & Vice-Chancellor Renison University College\n",
      "Shift Supervisor Sergeant\n",
      "Senior Educational Developer Graduate Programs & Internationalization\n",
      "Academic Dean Continuing Lecturer and Manager of International Work Experience Programs United College\n",
      "Director Centre for Career Action\n",
      "Manager Client Services\n",
      "Senior Design Instructor\n",
      "Continuing Lecturer Renison\n",
      "Staff Optometrist\n",
      "Senior Educational Developer Faculty Programs and Blended Learning\n",
      "Manager Undergraduate Career Services\n",
      "Academic Dean St. Paul's University College\n",
      "Manager Faculty of Science Infrastructure Special Project and Facilities\n",
      "Global Governance Program and Partnerships Manager\n",
      "Director Admissions & Undergraduate Affairs\n",
      "Director Advancement Faculty of Science\n",
      "Clinical Instructor\n",
      "Research/Teaching Support Specialist\n",
      "Associate Director Major and Principal Giving\n",
      "Executive Officer Faculty of Applied Health Sciences\n",
      "Executive Assistant Human Resources\n",
      "Lab Director Research and Special Projects\n",
      "Director Anti-Racism\n",
      "Network Support Specialist\n",
      "Application Specialist UNIX\n",
      "Executive Director Strategic Initiatives\n",
      "Associate Vice-President Equity Diversity Inclusion and Anti-Racism\n",
      "Associate Provost Institutional Data Analysis & Planning\n",
      "Associate Director Research Partnerships\n",
      "Manager Occupational Health\n",
      "Manager Web and Digital Communication\n",
      "Executive Officer Legal and Immigration Services\n",
      "Director Institutional Research\n",
      "Vice-President Academic and Provost\n",
      "Consultant Information Systems\n",
      "Senior Manager Research Data Analytics\n",
      "Instructor Undergrad Advisor\n",
      "Managing Director Gateway for Enterprises to Discover Innovation\n",
      "Senior Manager Funding Agencies and Non-profit Sponsors\n",
      "Project Scientist\n",
      "Geospatial Data Services Librarian\n",
      "Manager Portfolio & Process\n",
      "Interim Associate Vice-President Interdisciplinary Research\n",
      "Associate Director Records and Systems\n",
      "Account Manager Central West\n",
      "Managing Director Client Partnerships\n",
      "Dean Science\n",
      "Director Student Awards and Financial Aid\n",
      "Associate Director Experiential Learning and Career Development\n",
      "Principal Investigator & Scientific Director\n",
      "Associate Director Undergraduate Services\n",
      "Senior Director Community Relations and Events\n",
      "President and Vice-Chancellor Renison University College\n",
      "Associate Director Communications and Strategic Initiatives\n",
      "Manager Media and Studio Labs\n",
      "Administrative Officer Biology\n",
      "Manager Instructional Support\n",
      "Director Climate Resilience\n",
      "Men's Hockey Coach\n",
      "Field Director Risk Management Economic Sustainability and Actuarial Science Development in Indonesia\n",
      "Assistant Director English Language Institute Renison University College\n",
      "Manager Online Learning\n",
      "Associate Director Work-Learn Institute\n",
      "Director Treasury\n",
      "W Print\n",
      "Principal St. Paul's University College\n",
      "Supervisor Controls and Services\n",
      "Director Quantum Nano Fabrication & Characterization Facility\n",
      "Manager Departmental Systems\n",
      "Director Waterloo Fitness Teaching Laboratory Coordinator and Instructor\n",
      "Librarian Liaison\n",
      "Director Research Systems and Analytics\n",
      "Manager Academic Advising\n",
      "Head Coach Women's Volleyball\n",
      "Director Government Relations\n",
      "Associate Director Student Success\n",
      "Director Centre for Extended Learning\n",
      "Manager Circulation Services Collections Maintenance\n",
      "Director Waterloo Centre for Automotive Research\n",
      "Experiential Coordinator Patient Care Rotations\n",
      "Manager Marketing and Communication Strategy\n",
      "Principal St Paul's University College\n",
      "Senior Manager Work-Integrated Learning Programs\n",
      "Administrative Officer Kinesiology\n",
      "Computing Consultant\n",
      "Director Lifelong Learning\n",
      "Assistant Professor Renison\n",
      "Special Advisor to the Provost on Organizational Strategy\n",
      "Director Print and Retail Solutions\n",
      "Dean Health\n",
      "Continuing Lecturer and Manager of International Work Experience\n",
      "Assistant Director Housing Occupancy & Marketing Services\n",
      "Associate Director Assessment\n",
      "Senior Manager ;;Fund Agencies & Non-Profit Sponsors\n",
      "Associate Director Utilities\n",
      "Associate Provost Cooperative & Experiential Education\n",
      "Senior Manager Institutional Budget & Planning\n",
      "Assistant University Secretary & Privacy Officer\n",
      "Manager Mechanical Engineering\n",
      "Organic Chemistry Instructor\n",
      "Technical Manager\n",
      "Manager Corporate Accounting and Financial Reporting\n",
      "Director Strategy and Operations\n",
      "Senior Educational Developer Inquiry & Communications\n",
      "Entrepreneur in Residence\n",
      "Manager Design Services\n",
      "Assistant Professor\n",
      "Executive Director Velocity\n",
      "Archivist Librarian\n",
      "Director Print & Retail Solutions\n",
      "Director Quantum Nano Fabrication and Characterization Facility\n",
      "Dean Arts\n",
      "Supervisor Laboratory Instructor\n",
      "Senior Manager Interdisciplinary and Health\n",
      "Manager Pension Services\n",
      "Clinical Records Evaluator Accommodation Lead\n",
      "Senior Manager Integrated Communications\n",
      "Associate Director Advancement School of Pharmacy\n",
      "Associate Vice-President Government Relations\n",
      "Director Information Systems\n",
      "Energy Engineer\n",
      "Manager Mobility & Learning\n",
      "Executive Officer Faculty of Health\n",
      "Dean Mathematics\n",
      "Associate Director Disability Inclusion\n",
      "Director Counselling Services\n",
      "Director Technical Operations\n",
      "Senior Facility Microscopist\n",
      "Associate Director International Relations\n",
      "Manager Data Analytics Reporting & Research\n",
      "Administrative Officer Chemical Engineering\n",
      "Research Professor\n",
      "Technologist Hardware Design\n",
      "Head Information Services and Resources\n",
      "Laboratory Director Research and Special Projects\n",
      "Director External Relations\n",
      "Librarian Learning Teaching and Instructional Design\n",
      "Director Procurement & Contract Services\n",
      "Director Mapping Analysis and Design\n",
      "Manager Data Integration and Analytics\n",
      "Director of Planning Engineering\n",
      "Librarian Bibliometrics and Research Impact\n",
      "Operations Manager Autonomous Vehicle Research and Intelligence Lab and Green and Intelligent Automotive\n",
      "Stationary Engineer Second Class\n",
      "Associate Vice-President Advancement Services\n",
      "Director Municipal Consortium Canadian Water Network\n",
      "Associate Professor Renison University College\n",
      "Project Director Flood Impacts Carbon Pricing and Ecosystem Sustainability\n",
      "Executive Director Southern Ontario Water Consortium\n",
      "Micro & Nanofabrication Process Specialist/Engineer\n",
      "Director Real Estate and Research and Technology Park\n",
      "Associate Director Advancement Operations\n",
      "Manager Information Services\n",
      "Chief Information Officer\n",
      "Director Advancement\n",
      "Associate Professor of Music Conrad Grebel University College\n",
      "Executive Officer Faculty of Science\n",
      "Director Information Technology and Systems Development\n",
      "Network Systems Specialist\n",
      "Director Commercialization\n",
      "Senior Director Planning Design and Construction\n",
      "Director GreenHouse United College\n",
      "Research Development Officer Faculty of Science\n",
      "Head of the Intact Centre on Climate Adaptation\n",
      "Managing Director Cybersecurity and Privacy Institute\n",
      "Administrative Officer Secretariat\n",
      "Senior Manager Evaluation and Accountability\n",
      "Awards Officer University Research\n",
      ";President\n",
      "Manager Corporate Research Partnerships\n",
      "Associate Provost Institutional Data Analysis and Planning\n",
      "Material Characterization Specialist\n",
      "Director Mapping Analysis & Design\n",
      "Director Centre for Teaching Excellence\n",
      "Senior Director Finance and Operations\n",
      "Lecturer Renison University College\n",
      "Principal United College\n",
      "Senior Manager Research Finance\n",
      "Associate Vice-President Government Relations and Economic Development\n",
      "Instructor Earth & Environmental Sciences\n",
      "Administrative Officer Mechanical and Mechatronics Engineering\n",
      "Instructor and Undergraduate Laboratory Manager\n",
      "High Performance Computing Specialist\n",
      "Director Sexual Violence Prevention & Response\n",
      "Senior Manager Fund Agencies and Non-Profit Sponsors\n",
      "Manager Grants and Contracts\n",
      "Associate Professor Conrad Grebel University College\n",
      "Manager Technology & Continuous Improvement\n",
      "Experiential Coordinator School of Pharmacy\n",
      "Administrative Officer\n",
      "Information Systems Specialist Security Risk Analyst\n",
      "Associate Director Mathematics Advancement\n",
      "Professor United College\n",
      "Director Advancement Strategy Principal Gifts\n",
      "Managing Director Water Institute\n",
      "Manager Enterprise Systems\n",
      "Laboratory Instructor Supervisor\n",
      "Manager Faculty Relations\n",
      "Marketing Manager Research and Technology Park\n",
      "nan\n",
      "Manager Nanofabrication Process and Characterization Engineering\n",
      "Manager Marketing and Communications\n",
      "Director Research Security\n",
      "Associate University Librarian Collections Technology & Scholarly Communication\n",
      "Director Design & Construction Services\n",
      "Information Systems Team Lead\n",
      "Project Manager\n",
      "Director Communities and Climate Canadian Water Network\n",
      "Associate Director International Operations\n",
      "Managing Director Waterloo Advanced Manufacturing Consortium\n",
      "Director Engineering Research\n",
      "Micro and Nanofabrication Process Specialist/Engineer\n",
      "Elder-In-Residence\n",
      "Director Centre for the Advancement of Cooperative Education\n",
      "Director Research and Innovation Partnerships\n",
      "Programs Administrator\n",
      "Chief Human Resources Officer\n",
      "Associate Provost Human Resources\n",
      "Associate Director Systems Finance and Operations\n",
      "Chief Executive Officer Canadian Water Network\n",
      "Associate Director Student Engagement & Opportunities\n",
      "Emergency Planning and Fire Safety Officer\n",
      "Manager Technology and Continuous Improvement\n",
      "Director Instructor and Clinical Programs\n",
      "Manager International Agreements\n",
      "Supervisor Fleet and Vehicle Maintenance\n",
      "Continuing Lecturer Renison University College\n",
      "Lab Instructor Software Specialist\n",
      "Manager Media Relations\n",
      "Director Campus Housing\n",
      "Admissions Systems Solutions Architect\n",
      "Associate Director Online Learning Design\n",
      "Assistant Director Organizational and Human Development\n",
      "Lead Scientist and Manager Quantum Device Technology\n",
      "Research and Awards Development Officer\n",
      "Director Systems Technology and Analytics\n",
      "Administrative Officer Kinesiology and Health Sciences\n",
      "Manager Centre for Career Action\n",
      "Student Advisor\n",
      "Information Technology Specialist\n",
      "Dean Engineering\n",
      "Associate Director Advancement Faculty of Arts\n",
      "Senior Manager Work-Integrated Learning Courses\n",
      "Senior Manager Evaluation & Accountability\n",
      "Information Technology Manager\n",
      "Director Infrastructure and Technical Resources\n",
      "Associate Director Development Mathematics Advancement\n",
      "Interim Managing Director Teaching Innovation Incubator\n",
      "Senior Manager Scientific Outreach\n",
      "Online Learning Consultant\n",
      "Director Advancement Conrad Grebel University College\n",
      "Computer Consultant\n",
      "Laboratory Director Research & Special Projects\n",
      "English Instructional Support Tutor\n",
      "Manager Student Financial Services\n",
      "Assistant Director Shared Services\n",
      "Director Procurement and Contract Services\n",
      "Director Finance Conrad Grebel University College\n",
      "Interim Associate Vice-President Human Rights Equity and Inclusion\n",
      "Business Advisor\n",
      "Vice-President Academic and Dean Renison University College\n",
      "Executive Director Finance and Administration United College\n",
      "Associate Registrar Admission\n",
      "Executive Administrator Budgeting & Planning\n",
      "Employee Career Advisor and Learning Specialist\n",
      "Senior Manger Learning Design\n",
      "Specialist Geographic Information Systems\n",
      "Manager Industry Engagement\n",
      "Assistant Professor Human Rights United College\n",
      "Director Lab Teaching\n",
      "Team Lead Information Systems\n",
      "Research Analyst\n",
      "Manager Student Insights and Communications\n",
      "Engineering Educational Developer\n",
      "Program Director Institute for Quantum Computing Space Agency\n",
      "Manager Data Analytics Reporting and Research\n",
      "Lecturer Director English Language Studies Chair Renison University College\n",
      "Director Quantum-Nano Core Fabrication and Characterization Facility\n",
      "Dean Applied Health Science\n",
      "Archivist Librarian Conrad Grebel University College\n",
      "Director Student & Faculty Relations\n",
      "Senior Manager Recreation\n",
      "Executive Officer Faculty of Engineering\n",
      "Senior Manager Government Research Contracts\n",
      "Director Operations and Development\n",
      "Director Enterprise Systems\n",
      "Facility Manager Centre for Advanced Photovoltaic Devices and Systems\n",
      "Budget Officer Engineering\n",
      "Senior Manager Research Ethics\n",
      "Director Campus Wellness\n",
      "Acting Executive Officer Faculty of Environment\n",
      "Advisor to the Vice-President Research\n",
      "Manager Strategic Communications\n",
      "Professor Director Renison University College\n",
      "Research Associate\n",
      "Associate Director Systems\n",
      "Associate Director Health Promotion\n",
      "Dean Environment\n",
      "Engineering Instructional Support Tutor\n",
      "Associate Vice-President International\n",
      "Director Development\n",
      "Administrative Officer Statistics and Actuarial Science\n",
      "Chief Stationary Engineer\n",
      "Director Operations & Development\n",
      "Project Director\n",
      "Senior Lab Instructor Nano Engineering\n",
      "Associate Professor\n",
      "Controller\n",
      "Manager Digital Media\n",
      "Executive Manager Faculty Association\n",
      "Legal Counsel\n",
      "Faculty Financial Officer\n",
      "Director Design and Construction Services\n",
      "Laboratory Instructor Software Specialist\n",
      "Senior Manager Institutional Budget and Planning\n",
      "Assistant Director Housing Occupancy and Marketing Services\n",
      "Associate Vice-President Faculty Planning and Policy\n",
      "Laboratory Manager Nanotechnology\n",
      "Associate Professor Chair Renison University College\n",
      "Director Infrastructure and Safety\n",
      "Lab Manager Instructor and Experiential\n",
      "Manager Talent Acquisition\n",
      "Director Strategic Initiatives and Integrated Planning\n",
      "Associate Vice-President Research Oversight and Analysis\n",
      "Director Organizational and Human Development\n",
      "Manager Undergraduate Studies\n",
      "Senior Educational Developer Inquiry and Communications\n",
      "Associate Director Digital Learning Production\n",
      "Clinical Lecturer\n",
      "Dean Associate Professor Conrad Grebel University College\n",
      "Manager Web Development\n",
      "Information Systems Analyst and Consultant\n",
      "Instructor Earth and Environmental Sciences\n",
      "Account Manager West\n",
      "Director Undergraduate Operations\n",
      "Interun Strength and Conditioning Coach\n",
      "Associate Director Advancement Strategic Research\n",
      "Professor Conrad Grebel University College\n",
      "Director Advancement Faculty of Mathematics\n",
      "Administrative Officer School of Accounting and Finance\n",
      "Head Information Services & Resources\n",
      "Manager Technology Integrated\n",
      "Director Research Data Strategy\n",
      "Director Undergraduate Recruitment\n",
      "Manager Human Resources Projects and Technology\n",
      "Program Director School of Anatomy\n",
      "Associate Director Business Operations\n",
      "Science Technology Transfer Manager\n",
      "Manager Faculty of Science Infrastructure Special Project & Facilities\n",
      "Vice-President Advancement\n",
      "Manager Strategic Initiatives\n",
      "Executive Administrator Budgeting and Planning\n",
      "Executive Director Facilities\n",
      "Instructor Biology\n",
      "Manager Finance and Budgets\n",
      "Academic Advisor\n",
      "Director Policy Planning and Decision Support\n",
      "Institutional Analyst\n",
      "Head Metadata and Catalogue Services\n",
      "Assistant Director Operations\n",
      "Business Systems Analyst\n",
      "Associate Vice-President Research and International Management Services\n",
      "Head Library\n",
      "Director AccessAbility Services\n",
      "Consultant Online Learning\n",
      "Post Doctoral Fellow\n",
      "Senior Educational Developer Graduate Programs and Internationalization\n",
      "Special Advisor\n",
      "Manager Compensation\n",
      "President\n",
      "Associate Director Product Owner\n",
      "Associate Director Development Math Advancement\n",
      "Visiting Scholar\n",
      "Associate University Librarian\n",
      "Assistant Director Strategy and Business Operations\n",
      "Director Planning Faculty of Engineering\n",
      "Procurement Specialist\n",
      "Research Process Specialist\n",
      "Research Associate Professor\n",
      "Associate Director Prospect Research\n",
      "Senior Manager Research Contracts\n",
      "Executive Officer Faculty of Environment\n",
      "Director Waterloo Indigenous Student Centre St. Paul's University College\n",
      "Senior Computing Consultant\n",
      "Director GreenHouse St. Paul's University College\n",
      "Manager Human Resources Projects & Technology\n",
      "Vice-President Research and International\n",
      "Associate Director Donor Relations and Stewardship\n",
      "Director Instructor & Clinical Programs\n",
      "President;;Emeritus\n",
      "Director Student Awards & Financial Aid\n",
      "Associate Director Graduate Admissions\n",
      "Director of Anti-Racism\n",
      "Associate Provost Cooperative and Experiential Education\n",
      "Sessional Instructor\n",
      "Director Housing\n",
      "Manager Fabrication Lab\n",
      "Digital Archivist\n",
      "Centre for Teaching Excellence Faculty Liaison Science\n",
      "Manager Interuniversity Athletics\n",
      "Director Distance Education and Continuing Professional Development\n",
      "University Records Manager\n",
      "Head Metadata & Catalog Services\n",
      "Director Velocity Campus Innovation\n",
      "Professor Emeritus\n",
      "Administrative Officer School of Computer Science\n",
      "Director Sexual Violence Prevention and Response\n",
      "Assistant Professor Conrad Grebel University College\n",
      "Senior Director Community Relations & Events\n",
      "Manager Laboratory\n",
      "Director Conflict Management and Human Rights\n",
      "Associate Director Marketing Undergraduate Recruitment Director International\n",
      "Stationary Engineer Third Class\n",
      "Research Chemistry\n",
      "Manager Financial Reporting\n",
      "Head Collection Development\n",
      "University Medical Director\n",
      "Manager Data Integration & Analytics\n",
      "Associate Director Stewardship\n",
      "Associate University Secretary\n",
      "Head Intact Centre on Climate Adaptation\n",
      "Manager Engineering RoboHub\n",
      "Associate Director Online Learning\n",
      "Assistant Professor Renison University College\n",
      "Director Conflict Management & Human Rights\n",
      "Managing Director Cybersecurity & Privacy Institute\n",
      "Director Admissions and Undergraduate Affairs\n",
      "Facility Manager Centre for Advanced Photovoltaic Devices & Systems\n",
      "Lecturer\n",
      "Manager Nanofabrication Process & Characterization Engineering\n",
      "Manager Portfolio and Process\n",
      "Assistant Director English Language Institute Renison\n",
      "Regional Manager Central East\n",
      "Director Research Systems & Analytics\n",
      "Associate Director Major & Principal Giving\n",
      "Arts Research Development Officer\n",
      "Executive Director Cooperative Education\n",
      "Controls Technician Group Leader\n",
      "Associate Director AccessAbility Services\n",
      "Director Strategic Planning and Evaluation\n",
      "Manager Safety Office\n",
      "Director The Problem Lab\n",
      "Professor\n",
      "Manager Industry Partnerships\n",
      "Associate Vice-President Community Relations and Events\n",
      "Manager Information Security Operations\n",
      "Assistant University Secretary and Privacy Officer\n",
      "Director Equity\n",
      "Associate Vice-President Indigenous Relations\n",
      "Associate Vice-President Marketing and Brand Strategy\n",
      "Director Student and Faculty Relations\n",
      "Proposal Development Officer\n",
      "Director Centre for Mental Health Research & Treatment\n",
      "Manager Graduate Student and Postdoctoral Fellow Programs\n",
      "Professor Renison University College\n",
      "Information Systems Specialist\n",
      "Lab Instructor Biomedical Engineering\n",
      "Adjunct Professor\n",
      "Director Systems Technology & Analytics\n",
      "Director Centre for Mental Health Research and Treatment\n",
      "Associate Director First Year Engineering\n",
      "Associate Vice-President Health Initiatives\n",
      "Change Management Advisor\n",
      "Learning Environment Architect\n",
      "Supervisor Learning Environment\n",
      "Organizational Development Specialist Talent Management\n",
      "Associate Vice-President Development Programs\n",
      "Director Co-operative Services\n",
      "Laboratory Manager and Instructor\n",
      "Director Centre for Peace Advancement Conrad Grebel University College\n",
      "Manager Immigration Consulting\n",
      "Computing Consultant Learning Environment Specialist\n",
      "Manager Finance & Administration St. Paul's University College\n",
      "Manager Marketing and Brand\n",
      "Director Partners for Action\n",
      "Administrative Officer Psychology\n",
      "Associate Director Treasury\n",
      "Analyst\n",
      "Associate Vice-President Commercialization and Entrepreneurship\n",
      "Laboratory Director\n",
      "Counsellor\n",
      "Senior Manager Production\n",
      "Account Manager Central East\n",
      "Administrative Office Statistics and Actuarial Science\n",
      "Senior Manager Strategic Initiatives\n",
      "Financial Officer\n",
      "Workplace Accessibility Specialist\n",
      "name                 object\n",
      "sex                  object\n",
      "paper_count           int64\n",
      "citation_count        int64\n",
      "h_index               int64\n",
      "role_2020            object\n",
      "salary_2020         float64\n",
      "benefits_2020       float64\n",
      "role_2021            object\n",
      "salary_2021         float64\n",
      "benefits_2021       float64\n",
      "role_2022            object\n",
      "salary_2022         float64\n",
      "benefits_2022       float64\n",
      "role_2023            object\n",
      "salary_2023         float64\n",
      "benefits_2023       float64\n",
      "latest_totalcomp    float64\n",
      "latest_role          object\n",
      "perf_combined         int64\n",
      "totalcomp_2020      float64\n",
      "totalcomp_2021      float64\n",
      "totalcomp_2022      float64\n",
      "totalcomp_2023      float64\n",
      "dtype: object\n"
     ]
    },
    {
     "data": {
      "text/html": [
       "<div>\n",
       "<style scoped>\n",
       "    .dataframe tbody tr th:only-of-type {\n",
       "        vertical-align: middle;\n",
       "    }\n",
       "\n",
       "    .dataframe tbody tr th {\n",
       "        vertical-align: top;\n",
       "    }\n",
       "\n",
       "    .dataframe thead th {\n",
       "        text-align: right;\n",
       "    }\n",
       "</style>\n",
       "<table border=\"1\" class=\"dataframe\">\n",
       "  <thead>\n",
       "    <tr style=\"text-align: right;\">\n",
       "      <th></th>\n",
       "      <th>name</th>\n",
       "      <th>sex</th>\n",
       "      <th>paper_count</th>\n",
       "      <th>citation_count</th>\n",
       "      <th>h_index</th>\n",
       "      <th>role_2020</th>\n",
       "      <th>salary_2020</th>\n",
       "      <th>benefits_2020</th>\n",
       "      <th>role_2021</th>\n",
       "      <th>salary_2021</th>\n",
       "      <th>...</th>\n",
       "      <th>role_2023</th>\n",
       "      <th>salary_2023</th>\n",
       "      <th>benefits_2023</th>\n",
       "      <th>latest_totalcomp</th>\n",
       "      <th>latest_role</th>\n",
       "      <th>perf_combined</th>\n",
       "      <th>totalcomp_2020</th>\n",
       "      <th>totalcomp_2021</th>\n",
       "      <th>totalcomp_2022</th>\n",
       "      <th>totalcomp_2023</th>\n",
       "    </tr>\n",
       "  </thead>\n",
       "  <tbody>\n",
       "    <tr>\n",
       "      <th>0</th>\n",
       "      <td>Yousra Aafer</td>\n",
       "      <td>F</td>\n",
       "      <td>34</td>\n",
       "      <td>2998</td>\n",
       "      <td>18</td>\n",
       "      <td>Assistant Professor</td>\n",
       "      <td>148935.04</td>\n",
       "      <td>158.96</td>\n",
       "      <td>Assistant Professor</td>\n",
       "      <td>154146.48</td>\n",
       "      <td>...</td>\n",
       "      <td>Assistant Professor</td>\n",
       "      <td>160442.56</td>\n",
       "      <td>276.08</td>\n",
       "      <td>160718.64</td>\n",
       "      <td>Assistant Professor</td>\n",
       "      <td>3050</td>\n",
       "      <td>149094.00</td>\n",
       "      <td>154313.40</td>\n",
       "      <td>159488.20</td>\n",
       "      <td>160718.64</td>\n",
       "    </tr>\n",
       "    <tr>\n",
       "      <th>1</th>\n",
       "      <td>Eihab Abdel-rahman</td>\n",
       "      <td>M</td>\n",
       "      <td>197</td>\n",
       "      <td>5193</td>\n",
       "      <td>31</td>\n",
       "      <td>Professor</td>\n",
       "      <td>195256.60</td>\n",
       "      <td>215.48</td>\n",
       "      <td>Professor</td>\n",
       "      <td>206339.68</td>\n",
       "      <td>...</td>\n",
       "      <td>Professor</td>\n",
       "      <td>221699.84</td>\n",
       "      <td>370.76</td>\n",
       "      <td>222070.60</td>\n",
       "      <td>Professor</td>\n",
       "      <td>5421</td>\n",
       "      <td>195472.08</td>\n",
       "      <td>206567.72</td>\n",
       "      <td>210558.60</td>\n",
       "      <td>222070.60</td>\n",
       "    </tr>\n",
       "    <tr>\n",
       "      <th>2</th>\n",
       "      <td>Ishan S. Abeywardena</td>\n",
       "      <td>M</td>\n",
       "      <td>37</td>\n",
       "      <td>144</td>\n",
       "      <td>6</td>\n",
       "      <td>Associate Director Systems</td>\n",
       "      <td>125246.72</td>\n",
       "      <td>334.00</td>\n",
       "      <td>Associate Director Systems</td>\n",
       "      <td>130083.13</td>\n",
       "      <td>...</td>\n",
       "      <td>Associate Director Systems</td>\n",
       "      <td>142080.64</td>\n",
       "      <td>550.72</td>\n",
       "      <td>142631.36</td>\n",
       "      <td>Associate Director Systems</td>\n",
       "      <td>187</td>\n",
       "      <td>125580.72</td>\n",
       "      <td>130435.29</td>\n",
       "      <td>134382.97</td>\n",
       "      <td>142631.36</td>\n",
       "    </tr>\n",
       "    <tr>\n",
       "      <th>3</th>\n",
       "      <td>Hossein Abouee Mehrizi</td>\n",
       "      <td>M</td>\n",
       "      <td>31</td>\n",
       "      <td>450</td>\n",
       "      <td>13</td>\n",
       "      <td>Associate Professor</td>\n",
       "      <td>175698.40</td>\n",
       "      <td>293.66</td>\n",
       "      <td>Associate Professor</td>\n",
       "      <td>207908.56</td>\n",
       "      <td>...</td>\n",
       "      <td>Professor</td>\n",
       "      <td>209521.60</td>\n",
       "      <td>755.32</td>\n",
       "      <td>210276.92</td>\n",
       "      <td>Professor</td>\n",
       "      <td>494</td>\n",
       "      <td>175992.06</td>\n",
       "      <td>208375.44</td>\n",
       "      <td>207523.76</td>\n",
       "      <td>210276.92</td>\n",
       "    </tr>\n",
       "    <tr>\n",
       "      <th>4</th>\n",
       "      <td>John Abraham</td>\n",
       "      <td>M</td>\n",
       "      <td>383</td>\n",
       "      <td>9432</td>\n",
       "      <td>47</td>\n",
       "      <td>NaN</td>\n",
       "      <td>NaN</td>\n",
       "      <td>NaN</td>\n",
       "      <td>Continuing Lecturer and Manager of Internation...</td>\n",
       "      <td>104855.24</td>\n",
       "      <td>...</td>\n",
       "      <td>Academic Dean Continuing Lecturer and Manager ...</td>\n",
       "      <td>134059.52</td>\n",
       "      <td>875.24</td>\n",
       "      <td>134934.76</td>\n",
       "      <td>Academic Dean Continuing Lecturer and Manager ...</td>\n",
       "      <td>9862</td>\n",
       "      <td>NaN</td>\n",
       "      <td>105171.84</td>\n",
       "      <td>115881.00</td>\n",
       "      <td>134934.76</td>\n",
       "    </tr>\n",
       "  </tbody>\n",
       "</table>\n",
       "<p>5 rows × 24 columns</p>\n",
       "</div>"
      ],
      "text/plain": [
       "                     name sex  paper_count  citation_count  h_index  \\\n",
       "0            Yousra Aafer   F           34            2998       18   \n",
       "1      Eihab Abdel-rahman   M          197            5193       31   \n",
       "2    Ishan S. Abeywardena   M           37             144        6   \n",
       "3  Hossein Abouee Mehrizi   M           31             450       13   \n",
       "4            John Abraham   M          383            9432       47   \n",
       "\n",
       "                    role_2020  salary_2020  benefits_2020  \\\n",
       "0         Assistant Professor    148935.04         158.96   \n",
       "1                   Professor    195256.60         215.48   \n",
       "2  Associate Director Systems    125246.72         334.00   \n",
       "3         Associate Professor    175698.40         293.66   \n",
       "4                         NaN          NaN            NaN   \n",
       "\n",
       "                                           role_2021  salary_2021  ...  \\\n",
       "0                                Assistant Professor    154146.48  ...   \n",
       "1                                          Professor    206339.68  ...   \n",
       "2                         Associate Director Systems    130083.13  ...   \n",
       "3                                Associate Professor    207908.56  ...   \n",
       "4  Continuing Lecturer and Manager of Internation...    104855.24  ...   \n",
       "\n",
       "                                           role_2023 salary_2023  \\\n",
       "0                                Assistant Professor   160442.56   \n",
       "1                                          Professor   221699.84   \n",
       "2                         Associate Director Systems   142080.64   \n",
       "3                                          Professor   209521.60   \n",
       "4  Academic Dean Continuing Lecturer and Manager ...   134059.52   \n",
       "\n",
       "   benefits_2023  latest_totalcomp  \\\n",
       "0         276.08         160718.64   \n",
       "1         370.76         222070.60   \n",
       "2         550.72         142631.36   \n",
       "3         755.32         210276.92   \n",
       "4         875.24         134934.76   \n",
       "\n",
       "                                         latest_role  perf_combined  \\\n",
       "0                                Assistant Professor           3050   \n",
       "1                                          Professor           5421   \n",
       "2                         Associate Director Systems            187   \n",
       "3                                          Professor            494   \n",
       "4  Academic Dean Continuing Lecturer and Manager ...           9862   \n",
       "\n",
       "   totalcomp_2020  totalcomp_2021 totalcomp_2022  totalcomp_2023  \n",
       "0       149094.00       154313.40      159488.20       160718.64  \n",
       "1       195472.08       206567.72      210558.60       222070.60  \n",
       "2       125580.72       130435.29      134382.97       142631.36  \n",
       "3       175992.06       208375.44      207523.76       210276.92  \n",
       "4             NaN       105171.84      115881.00       134934.76  \n",
       "\n",
       "[5 rows x 24 columns]"
      ]
     },
     "execution_count": 46,
     "metadata": {},
     "output_type": "execute_result"
    }
   ],
   "source": [
    "# from pathlib import Path\n",
    "# import pandas as pd\n",
    "# import seaborn as sns\n",
    "# import matplotlib.pyplot as plt\n",
    "# import numpy as np\n",
    "# from matplotlib.colors import LogNorm\n",
    "\n",
    "# datapath = Path.cwd().parent / \"data\" / \"sunshines-v4.csv\"\n",
    "# df = pd.read_csv(datapath)\n",
    "\n",
    "# #\n",
    "# # infer features\n",
    "# #\n",
    "\n",
    "# def get_role_group(row):\n",
    "#     pass\n",
    "\n",
    "# def get_latest_totalcomp(row):\n",
    "#     years = ['2023', '2022', '2021', '2020']\n",
    "#     for year in years:\n",
    "#         salary_col = f'salary_{year}'\n",
    "#         benefits_col = f'benefits_{year}'\n",
    "#         if salary_col in row.index and benefits_col in row.index: # fall back to previous year if current year is missing\n",
    "#             if pd.notna(row[salary_col]) and pd.notna(row[benefits_col]): # check if both present\n",
    "#                 return row[salary_col] + row[benefits_col] # get total comp\n",
    "#     print(f\"warning: {row['name']}\")\n",
    "#     return pd.NA\n",
    "\n",
    "# def get_latest_role(row):\n",
    "#     years = ['2023', '2022', '2021', '2020']\n",
    "#     for year in years:\n",
    "#         role_col = f'role_{year}'\n",
    "#         if role_col in row.index: # fall back to previous year if current year is missing\n",
    "#             if pd.notna(row[role_col]): # check if present\n",
    "#                 return row[role_col]\n",
    "#     print(f\"warning: {row['name']}\")\n",
    "#     return pd.NA\n",
    "\n",
    "# # get latest role group\n",
    "\n",
    "# df['latest_totalcomp'] = df.apply(get_latest_totalcomp, axis=1)\n",
    "# df['latest_role'] = df.apply(get_latest_role, axis=1)\n",
    "\n",
    "# df['perf_combined'] = df['paper_count'] + df['citation_count'] + df['h_index']\n",
    "# for year in range(2020, 2024):\n",
    "#     df[f'totalcomp_{year}'] = df[f'salary_{year}'] + df[f'benefits_{year}']\n",
    "\n",
    "\n",
    "# roles = list(set([role for year in range(2020, 2024) for role in df[f'role_{year}'].unique()]))\n",
    "# print(f\"number of unique roles: {len(roles)}\")\n",
    "# for r in roles:\n",
    "#     print(r)\n",
    "\n",
    "# print(df.dtypes)\n",
    "# df.head()\n",
    "\n",
    "\n",
    "# #\n",
    "# # correlation heatmap\n",
    "# #\n",
    "\n",
    "\n",
    "# # IDEA: demographics\n",
    "# # male female ratio\n",
    "# # male female ratio per role\n",
    "\n",
    "# # IDEA: career progression (temporal)\n",
    "# # - change in roles over time, ranking roles\n",
    "\n",
    "# # IDEA: compensation trends (temporal)\n",
    "# # - visualize num employees, salaries, benefits, num papers, citations, h_index, perf_combined - over time\n",
    "\n",
    "# # IDEA: performance (correlation)\n",
    "# # what influences latest_totalcomp the most?\n",
    "# # correlate using a heatmap:\n",
    "# # - sex\n",
    "# # - paper_count\n",
    "# # - citation_count\n",
    "# # - h_index\n",
    "# # - latest_role\n",
    "# # - perf_combined (combined)\n"
   ]
  },
  {
   "cell_type": "code",
   "execution_count": null,
   "metadata": {},
   "outputs": [],
   "source": []
  }
 ],
 "metadata": {
  "kernelspec": {
   "display_name": ".venv",
   "language": "python",
   "name": "python3"
  },
  "language_info": {
   "codemirror_mode": {
    "name": "ipython",
    "version": 3
   },
   "file_extension": ".py",
   "mimetype": "text/x-python",
   "name": "python",
   "nbconvert_exporter": "python",
   "pygments_lexer": "ipython3",
   "version": "3.11.9"
  }
 },
 "nbformat": 4,
 "nbformat_minor": 2
}
